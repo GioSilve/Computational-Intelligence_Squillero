{
 "cells": [
  {
   "cell_type": "markdown",
   "metadata": {
    "vscode": {
     "languageId": "plaintext"
    }
   },
   "source": [
    "Copyright **`(c)`** 2024 Giovanni Squillero `<giovanni.squillero@polito.it>`  \n",
    "[`https://github.com/squillero/computational-intelligence`](https://github.com/squillero/computational-intelligence)  \n",
    "Free under certain conditions — see the [`license`](https://github.com/squillero/computational-intelligence/blob/master/LICENSE.md) for details.  "
   ]
  },
  {
   "cell_type": "code",
   "execution_count": 10,
   "metadata": {},
   "outputs": [],
   "source": [
    "from random import randint\n",
    "from icecream import ic"
   ]
  },
  {
   "cell_type": "code",
   "execution_count": 14,
   "metadata": {},
   "outputs": [],
   "source": [
    "PROBLEM_SIZE = 10\n",
    "NUMBERS = [randint(1, 10) for _ in range(PROBLEM_SIZE)]\n",
    "GOAL = 15"
   ]
  },
  {
   "cell_type": "code",
   "execution_count": 15,
   "metadata": {},
   "outputs": [],
   "source": [
    "fronteer = [[False] * PROBLEM_SIZE]\n",
    "\n",
    "state = fronteer.pop()\n",
    "while sum(NUMBERS[n] for n in range(PROBLEM_SIZE) if state[n]) != GOAL:\n",
    "    valid_actions = [n for n in range(PROBLEM_SIZE) if not state[n]]\n",
    "    for a in valid_actions:\n",
    "        new_state = state[:]\n",
    "        new_state[a] = True\n",
    "        fronteer.append(new_state)\n",
    "    state = fronteer.pop()\n"
   ]
  }
 ],
 "metadata": {
  "kernelspec": {
   "display_name": "ci-WEKR9SVn-py3.12",
   "language": "python",
   "name": "python3"
  },
  "language_info": {
   "codemirror_mode": {
    "name": "ipython",
    "version": 3
   },
   "file_extension": ".py",
   "mimetype": "text/x-python",
   "name": "python",
   "nbconvert_exporter": "python",
   "pygments_lexer": "ipython3",
   "version": "3.12.7"
  }
 },
 "nbformat": 4,
 "nbformat_minor": 2
}
